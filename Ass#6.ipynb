{
 "cells": [
  {
   "cell_type": "code",
   "execution_count": 1,
   "metadata": {},
   "outputs": [],
   "source": [
    "#Object-Oriented Programming (OOP) is the term used to describe a programming approach \n",
    "#based on objects and classes. The object-oriented paradigm allows us to organize \n",
    "#software as a collection of objects that consist of both data and behavior. This is in \n",
    "#contrast to conventional functional programming practice that only loosely connects data \n",
    "#and behavior.\n"
   ]
  },
  {
   "cell_type": "code",
   "execution_count": null,
   "metadata": {},
   "outputs": [],
   "source": [
    "#1.Modularity for easier troubleshooting\n",
    "#2.Reuse of code through inheritance\n",
    "#3.Flexibility through polymorphism\n",
    "#4.Effective problem solving\n",
    "#5.Dynamic Binding\n"
   ]
  },
  {
   "cell_type": "code",
   "execution_count": null,
   "metadata": {},
   "outputs": [],
   "source": [
    "#1.Method is called by its name, but it is associated to an object (dependent).\n",
    "#2.A method is implicitly passed the object on which it is invoked.\n",
    "#3.It may or may not return any data.\n",
    "#4.A method can operate on the data (instance variables) that is contained by the corresponding class. \n",
    "#5.Function is block of code that is also called by its name. (independent)\n",
    "#6.The function can have different parameters or may not have any at all. If any data (parameters) are passed, they are passed explicitly.\n",
    "#7.It may or may not return any data.\n",
    "#8.Function does not deal with Class and its instance concept.\n"
   ]
  },
  {
   "cell_type": "code",
   "execution_count": null,
   "metadata": {},
   "outputs": [],
   "source": [
    "#Class: The creation of objects is based on a programmer-defined blue-print also known \n",
    "#as a Class. Classes are like ideas. Objects are concrete manifestations of those ideas.\n",
    "#Object: An object is a component of a program that knows how to perform certain actions\n",
    "#6and how to interact with other elements of the program.\n",
    "#Attributes: Attributes are data stored inside a class or instance and represent the state \n",
    "#or quality of the class or instance. In short, attributes store information about the \n",
    "#instance.\n",
    "#Behavior: How an object acts & reacts in terms of states changes & message passing \n",
    "#is known as behavior."
   ]
  },
  {
   "cell_type": "code",
   "execution_count": 2,
   "metadata": {},
   "outputs": [],
   "source": [
    "class car:\n",
    "    def __init__(self,name,model,color,company,capacity):\n",
    "        self.name=name\n",
    "        self.model=model\n",
    "        self.color=color\n",
    "        self.company=company\n",
    "        self.capacity=capacity\n",
    "        self.price=0\n",
    "        self.quantity=0\n",
    "        self.fault=\"null\"\n",
    "        \n",
    "    def updatePrice(self,newprice):\n",
    "        self.price=newprice\n",
    "    def updateQuantity(self,newquantity):\n",
    "        self.quantity=newquantity\n",
    "    def updateFault(self,newfault):\n",
    "        self.fault=newfault\n",
    "    \n",
    "        \n",
    "car1=car(\"Mehran\",2012,\"black\",\"suzuki\",\"800 cc\")\n",
    "car2=car(\"Corolla\",2016,\"white\",\"toyota\",\"1800 cc\")\n",
    "car3=car(\"Margalla\",1999,\"green\",\"suzuki\",\"1300 cc\")\n",
    "car4=car(\"fortuner\",2019,\"blue\",\"Toyota\",\"2700 cc\")\n",
    "car5=car(\"Cultus\",2007,\"green\",\"suzuki\",\"1400 cc\")\n",
    "car1.updatePrice(400000)\n",
    "car1.updateQuantity(4)\n",
    "car1.updateFault(\"Old Tyres\")"
   ]
  },
  {
   "cell_type": "code",
   "execution_count": null,
   "metadata": {},
   "outputs": [],
   "source": []
  }
 ],
 "metadata": {
  "kernelspec": {
   "display_name": "Python 3",
   "language": "python",
   "name": "python3"
  },
  "language_info": {
   "codemirror_mode": {
    "name": "ipython",
    "version": 3
   },
   "file_extension": ".py",
   "mimetype": "text/x-python",
   "name": "python",
   "nbconvert_exporter": "python",
   "pygments_lexer": "ipython3",
   "version": "3.6.5"
  }
 },
 "nbformat": 4,
 "nbformat_minor": 2
}
