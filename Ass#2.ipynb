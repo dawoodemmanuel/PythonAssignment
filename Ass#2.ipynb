{
 "cells": [
  {
   "cell_type": "code",
   "execution_count": 1,
   "metadata": {},
   "outputs": [
    {
     "name": "stdout",
     "output_type": "stream",
     "text": [
      "Enter the Integer Number:45\n",
      "This is Odd Number\n"
     ]
    }
   ],
   "source": [
    "num = int(input(\"Enter the Integer Number:\"))\n",
    "if num % 2 == 0:\n",
    "    print(\"This is Even Number\")\n",
    "else:\n",
    "    print(\"This is Odd Number\")"
   ]
  },
  {
   "cell_type": "code",
   "execution_count": 2,
   "metadata": {},
   "outputs": [
    {
     "name": "stdout",
     "output_type": "stream",
     "text": [
      "The Largest number in list are: 1000\n"
     ]
    }
   ],
   "source": [
    "list = [100, 200, 300, 400, 500, 600, 700, 800, 900, 1000]\n",
    "a = int(0)\n",
    "for largest in list:\n",
    "    if a < largest:\n",
    "        a = largest\n",
    "    \n",
    "print(\"The Largest number in list are:\",a)"
   ]
  },
  {
   "cell_type": "code",
   "execution_count": 3,
   "metadata": {},
   "outputs": [
    {
     "name": "stdout",
     "output_type": "stream",
     "text": [
      "The Printed List has value, less than Five [1, 1, 2, 3]\n"
     ]
    }
   ],
   "source": [
    "list = [1, 1, 2, 3, 5, 8, 13, 21, 34, 55, 89]\n",
    "less_five = []\n",
    "for less in list:\n",
    "    if less < 5:\n",
    "        less_five.append(less)\n",
    "print(\"The Printed List has value, less than Five\",less_five)"
   ]
  },
  {
   "cell_type": "code",
   "execution_count": 4,
   "metadata": {},
   "outputs": [
    {
     "name": "stdout",
     "output_type": "stream",
     "text": [
      "The length of List 10\n"
     ]
    }
   ],
   "source": [
    "li = [1, 2, 3, 4, 5, 6, 7, 8, 9, 10]\n",
    "print(\"The length of List\",len(li))"
   ]
  },
  {
   "cell_type": "code",
   "execution_count": 5,
   "metadata": {},
   "outputs": [
    {
     "name": "stdout",
     "output_type": "stream",
     "text": [
      "Enter your Percentage:93.33\n",
      "Your Grade is A+\n"
     ]
    }
   ],
   "source": [
    "per = float(input(\"Enter your Percentage:\"))\n",
    "if (per >= 80.0 and per < 100):\n",
    "    print(\"Your Grade is A+\")\n",
    "elif (per >= 70.0 and per < 80.0):\n",
    "    print(\"Your Grade is A\")\n",
    "elif (per >= 60.0 and per < 70.0):\n",
    "    print(\"Your Grade is B\")\n",
    "elif (per >= 50.0 and per < 60.0):\n",
    "    print(\"Your Grade is C\")\n",
    "elif (per >= 40.0 and per < 50.0):\n",
    "    print(\"Your Grade is D\")\n",
    "elif per < 40.0:\n",
    "    print(\"Fail\")\n",
    "else :\n",
    "    print(\"Invalid Input\")"
   ]
  },
  {
   "cell_type": "code",
   "execution_count": 6,
   "metadata": {},
   "outputs": [
    {
     "name": "stdout",
     "output_type": "stream",
     "text": [
      "The sum of items in list are: 55\n"
     ]
    }
   ],
   "source": [
    "list = [1, 2, 3, 4, 5, 6, 7, 8, 9, 10]\n",
    "a = 0\n",
    "for sum in list:\n",
    "    a = a + sum\n",
    "\n",
    "\n",
    "print(\"The sum of items in list are:\",a)"
   ]
  }
 ],
 "metadata": {
  "kernelspec": {
   "display_name": "Python 3",
   "language": "python",
   "name": "python3"
  },
  "language_info": {
   "codemirror_mode": {
    "name": "ipython",
    "version": 3
   },
   "file_extension": ".py",
   "mimetype": "text/x-python",
   "name": "python",
   "nbconvert_exporter": "python",
   "pygments_lexer": "ipython3",
   "version": "3.7.4"
  }
 },
 "nbformat": 4,
 "nbformat_minor": 2
}
