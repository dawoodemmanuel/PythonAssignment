{
 "cells": [
  {
   "cell_type": "code",
   "execution_count": 1,
   "metadata": {},
   "outputs": [
    {
     "name": "stdout",
     "output_type": "stream",
     "text": [
      "{'Name': 'Dawood Emmanuel', 'Class': 'BSCS-2nd Semester', 'Group': 'Computer Science', 'Course': 'Introduction to Computer Science-II', 'Roll_No': ''}\n"
     ]
    }
   ],
   "source": [
    "students = {\n",
    "    \"Name\": \"Dawood Emmanuel\",\n",
    "    \"Class\": \"BSCS-2nd Semester\",\n",
    "    \"Group\": \"Computer Science\",\n",
    "    \"Course\": \"Introduction to Computer Science-II\"\n",
    "}\n",
    "students[\"Roll_No\"] = \"\"\n",
    "print(students)"
   ]
  },
  {
   "cell_type": "code",
   "execution_count": 3,
   "metadata": {},
   "outputs": [
    {
     "name": "stdout",
     "output_type": "stream",
     "text": [
      "Simple Calculator\n",
      "\n",
      "\n",
      "Press 1 for Addition\n",
      "Press 2 for Subtraction\n",
      "Press 3 for Multiplication\n",
      "Press 4 for Division\n",
      "Press 5 for Power\n",
      "\n",
      "\n",
      "Select the choice of Opertaion (1 - 5):3\n",
      "Enter the 1st Number:4\n",
      "Enter the 2nd Number:5\n",
      "The Multiplication of 4.0 and 5.0 are: 20.0\n"
     ]
    }
   ],
   "source": [
    "print(\"Simple Calculator\\n\")\n",
    "print(\"\\nPress 1 for Addition\")\n",
    "print(\"Press 2 for Subtraction\")\n",
    "print(\"Press 3 for Multiplication\")\n",
    "print(\"Press 4 for Division\")\n",
    "print(\"Press 5 for Power\\n\\n\")\n",
    "select = int(input(\"Select the choice of Opertaion (1 - 5):\"))\n",
    "if select == 1:\n",
    "    num1 = float(input(\"Enter the 1st Number:\"))\n",
    "    num2 = float(input(\"Enter the 2nd Number:\"))\n",
    "    print(f\"The Addition of {num1} and {num2} are:\",num1 + num2)\n",
    "elif select == 2:\n",
    "    num1 = float(input(\"Enter the 1st Number:\"))\n",
    "    num2 = float(input(\"Enter the 2nd Number:\"))\n",
    "    print(f\"The Subtraction of {num1} and {num2} are:\",num1 - num2)\n",
    "elif select == 3:\n",
    "    num1 = float(input(\"Enter the 1st Number:\"))\n",
    "    num2 = float(input(\"Enter the 2nd Number:\"))\n",
    "    print(f\"The Multiplication of {num1} and {num2} are:\",num1 * num2)\n",
    "elif select == 4:\n",
    "    num1 = float(input(\"Enter the 1st Number:\"))\n",
    "    num2 = float(input(\"Enter the 2nd Number:\"))\n",
    "    print(f\"The Division of {num1} and {num2} are:\",num1 / num2)\n",
    "elif select == 5:\n",
    "    num1 = float(input(\"Enter the Base:\"))\n",
    "    num2 = float(input(\"Enter the Exponent:\"))\n",
    "    print(f\"The Power of base {num1} rasised to power {num2} are:\",num1 ** num2)\n",
    "else:\n",
    "    print(\"Invalid Selection\")"
   ]
  },
  {
   "cell_type": "code",
   "execution_count": 4,
   "metadata": {},
   "outputs": [
    {
     "name": "stdout",
     "output_type": "stream",
     "text": [
      "Yes, There is a Numeric value in the List, are 1998:\n"
     ]
    }
   ],
   "source": [
    "list = [\"Dawood\", \"1998\", '@', \"3.147\", \"01CB78FE\"]\n",
    "for check in list:\n",
    "    if check.isnumeric():\n",
    "        print(f\"Yes, There is a Numeric value in the List, are {check}:\")"
   ]
  },
  {
   "cell_type": "code",
   "execution_count": 5,
   "metadata": {},
   "outputs": [
    {
     "name": "stdout",
     "output_type": "stream",
     "text": [
      "Duplicate elements in given array: \n",
      "1998\n",
      "@\n",
      "*\n"
     ]
    }
   ],
   "source": [
    "list = [\"Dawood\", \"1998\", '@', \"30\", \"11\", \"November\", \"1998\", '*', '@', '*']\n",
    "print(\"Duplicate elements in given array: \");       \n",
    "for i in range(0, len(list)):    \n",
    "    for j in range(i+1, len(list)):    \n",
    "        if(list[i] == list[j]):    \n",
    "            print(list[j]);"
   ]
  },
  {
   "cell_type": "code",
   "execution_count": 6,
   "metadata": {},
   "outputs": [
    {
     "name": "stdout",
     "output_type": "stream",
     "text": [
      "Enter your keys:5\n",
      "Your enteres key isn't exist in Dictionary\n"
     ]
    }
   ],
   "source": [
    "dict = {\n",
    "    1: \"Dawood\",\n",
    "    2: \"Mahd\",\n",
    "    3: \"Mustafa\",\n",
    "    4: \"Sear\"\n",
    "}\n",
    "key = int(input(\"Enter your keys:\"))\n",
    "if key in dict:\n",
    "    print(\"Your enteres key already exist in Dictionary\")\n",
    "else:\n",
    "    print(\"Your enteres key isn't exist in Dictionary\")"
   ]
  },
  {
   "cell_type": "code",
   "execution_count": 7,
   "metadata": {},
   "outputs": [
    {
     "name": "stdout",
     "output_type": "stream",
     "text": [
      "The sum of Numeric item in Dictioary are: 56427\n"
     ]
    }
   ],
   "source": [
    "values_sum = 0\n",
    "keys_sum = 0\n",
    "dict = {\n",
    "    \"100\": \"Rupees\",\n",
    "    \"Age\": \"21\",\n",
    "    \"Income\": \"54000\",\n",
    "    \"Tomato_price_per_kg\": \"300\",\n",
    "    \"1998\": \"This is My Birth Year\",\n",
    "    \"8\": \"My Lucky Number\"\n",
    "}\n",
    "for values,keys in dict.items():\n",
    "    if values.isnumeric():\n",
    "        values_sum = int(values) + values_sum\n",
    "    if keys.isnumeric():\n",
    "        keys_sum = int(keys) + keys_sum\n",
    "print(\"The sum of Numeric item in Dictioary are:\",values_sum + keys_sum)"
   ]
  }
 ],
 "metadata": {
  "kernelspec": {
   "display_name": "Python 3",
   "language": "python",
   "name": "python3"
  },
  "language_info": {
   "codemirror_mode": {
    "name": "ipython",
    "version": 3
   },
   "file_extension": ".py",
   "mimetype": "text/x-python",
   "name": "python",
   "nbconvert_exporter": "python",
   "pygments_lexer": "ipython3",
   "version": "3.7.4"
  }
 },
 "nbformat": 4,
 "nbformat_minor": 2
}
