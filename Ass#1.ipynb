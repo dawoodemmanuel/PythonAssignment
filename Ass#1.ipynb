{
 "cells": [
  {
   "cell_type": "code",
   "execution_count": 1,
   "metadata": {},
   "outputs": [
    {
     "name": "stdout",
     "output_type": "stream",
     "text": [
      "Enter the First Number:3\n",
      "Enter the Second Number:4\n",
      "The Addition of two Numbers are: 7\n"
     ]
    }
   ],
   "source": [
    "first = int(input(\"Enter the First Number:\"))\n",
    "second = int(input(\"Enter the Second Number:\"))\n",
    "print(\"The Addition of two Numbers are:\",first + second)"
   ]
  },
  {
   "cell_type": "code",
   "execution_count": 3,
   "metadata": {},
   "outputs": [
    {
     "name": "stdout",
     "output_type": "stream",
     "text": [
      "Enter the radius of Circle: 49.0\n",
      "The area of Circle are 7543.942\n"
     ]
    }
   ],
   "source": [
    "PI = 3.142\n",
    "radius = float(input(\"Enter the radius of Circle: \"))\n",
    "area = PI * radius**2\n",
    "print(\"The area of Circle are\",area)"
   ]
  },
  {
   "cell_type": "code",
   "execution_count": 4,
   "metadata": {},
   "outputs": [
    {
     "name": "stdout",
     "output_type": "stream",
     "text": [
      "Sat Nov 23 22:26:00 2019\n"
     ]
    }
   ],
   "source": [
    "import time\n",
    "print(time.ctime(time.time()))"
   ]
  },
  {
   "cell_type": "code",
   "execution_count": 5,
   "metadata": {},
   "outputs": [
    {
     "name": "stdout",
     "output_type": "stream",
     "text": [
      "Enter the First Name:Dawood\n",
      "Enter the last Name:Romeo\n",
      "oemoR doowaD\n"
     ]
    }
   ],
   "source": [
    "first_name = input(\"Enter the First Name:\")\n",
    "last_name = input(\"Enter the last Name:\")\n",
    "reverse = first_name + \" \" + last_name\n",
    "print(reverse[-1::-1])"
   ]
  },
  {
   "cell_type": "code",
   "execution_count": 6,
   "metadata": {},
   "outputs": [
    {
     "name": "stdout",
     "output_type": "stream",
     "text": [
      "\t\tTwinkle, twinkle, little star,\n",
      "\t\t\tHow I wonder what you are!\n",
      "\t\t\t\tUp above the world so high,\n",
      "\t\t\t\tLike a diamond in the sky.\n",
      "\t\tTwinkle, twinkle, little star,\n",
      "\t\t\tHow I wonder what you are\n"
     ]
    }
   ],
   "source": [
    "print(\"\\t\\tTwinkle, twinkle, little star,\\n\"\n",
    "\"\\t\\t\\tHow I wonder what you are!\\n\"\n",
    "\"\\t\\t\\t\\tUp above the world so high,\\n\"\n",
    "\"\\t\\t\\t\\tLike a diamond in the sky.\\n\"\n",
    "\"\\t\\tTwinkle, twinkle, little star,\\n\"\n",
    "\"\\t\\t\\tHow I wonder what you are\")"
   ]
  },
  {
   "cell_type": "code",
   "execution_count": 7,
   "metadata": {},
   "outputs": [
    {
     "name": "stdout",
     "output_type": "stream",
     "text": [
      "Python Version:\n",
      "3.7.4 (default, Aug  9 2019, 18:34:13) [MSC v.1915 64 bit (AMD64)]\n"
     ]
    }
   ],
   "source": [
    "import sys\n",
    "print(\"Python Version:\")\n",
    "print(sys.version)"
   ]
  }
 ],
 "metadata": {
  "kernelspec": {
   "display_name": "Python 3",
   "language": "python",
   "name": "python3"
  },
  "language_info": {
   "codemirror_mode": {
    "name": "ipython",
    "version": 3
   },
   "file_extension": ".py",
   "mimetype": "text/x-python",
   "name": "python",
   "nbconvert_exporter": "python",
   "pygments_lexer": "ipython3",
   "version": "3.7.4"
  }
 },
 "nbformat": 4,
 "nbformat_minor": 2
}
